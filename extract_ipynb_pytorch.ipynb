{
 "cells": [
  {
   "cell_type": "code",
   "id": "02c209ec",
   "metadata": {
    "ExecuteTime": {
     "end_time": "2024-08-15T01:34:15.848668Z",
     "start_time": "2024-08-15T01:34:15.845299Z"
    }
   },
   "source": [
    "import os, sys\n",
    "# os.environ['TF_FORCE_GPU_ALLOW_GROWTH'] = 'true'\n",
    "# os.environ['CUDA_VISIBLE_DEVICES'] = '0'\n",
    "\n",
    "import numpy as np\n",
    "import imageio\n",
    "import pprint\n",
    "\n",
    "import matplotlib.pyplot as plt\n",
    "import torch\n",
    "import mcubes\n",
    "import trimesh\n",
    "import run_nerf\n",
    "import run_nerf_helpers\n",
    "\n"
   ],
   "outputs": [],
   "execution_count": 3
  },
  {
   "cell_type": "code",
   "id": "b35cc4a4",
   "metadata": {
    "ExecuteTime": {
     "end_time": "2024-08-15T01:34:17.322122Z",
     "start_time": "2024-08-15T01:34:17.318872Z"
    }
   },
   "source": [
    "basedir = './logs_NEW_NORM'\n",
    "expname = 'kitti360_test_binocular300000'\n",
    "\n",
    "config = os.path.join(basedir, expname, 'config.txt')\n",
    "print('Args:')\n",
    "print(open(config, 'r').read())"
   ],
   "outputs": [
    {
     "name": "stdout",
     "output_type": "stream",
     "text": [
      "Args:\n",
      "expname = kitti360_test_binocular\n",
      "basedir = ./logs_NEW_NORM\n",
      "datadir = /media/ry/483BED215A2D2EBA/KITTI-360\n",
      "dataset_type = KITTI360\n",
      "\n",
      "no_batching = False\n",
      "use_viewdirs = True\n",
      "white_bkgd = False\n",
      "lrate_decay = 500\n",
      "render_test = True\n",
      "\n",
      "N_samples = 64\n",
      "N_importance = 128\n",
      "N_rand = 1024\n",
      "\n",
      "precrop_iters = 500\n",
      "precrop_frac = 0.5\n",
      "\n",
      "half_res = False\n",
      "\n"
     ]
    }
   ],
   "execution_count": 4
  },
  {
   "metadata": {
    "ExecuteTime": {
     "end_time": "2024-08-15T01:57:10.140229Z",
     "start_time": "2024-08-15T01:57:10.137240Z"
    }
   },
   "cell_type": "code",
   "source": [
    "parser = run_nerf.config_parser()\n",
    "ft_str = '' \n",
    "ft_str = '--ft_path {}'.format(os.path.join(basedir, expname, 'model_300000.npy'))\n",
    "args = parser.parse_args('--config {} '.format(config) + ft_str)\n"
   ],
   "id": "d5a6a07d4bbb88b2",
   "outputs": [],
   "execution_count": 7
  },
  {
   "metadata": {},
   "cell_type": "markdown",
   "source": "",
   "id": "17e12b543d9c08cf"
  },
  {
   "metadata": {},
   "cell_type": "code",
   "outputs": [],
   "execution_count": null,
   "source": [
    "# Create nerf model\n",
    "_, render_kwargs_test, start, grad_vars, models = run_nerf.create_nerf(args)\n",
    "\n",
    "\n",
    "near = 2.\n",
    "far = 6.\n",
    "bds_dict = {\n",
    "        'near' : near,\n",
    "        'far' : far,\n",
    "    }\n",
    "render_kwargs_test.update(bds_dict)\n",
    "\n",
    "print('Render kwargs:')\n",
    "pprint.pprint(render_kwargs_test)\n",
    "\n",
    "net_fn = render_kwargs_test['network_query_fn']\n",
    "print(net_fn)\n",
    "\n",
    "# Render an overhead view to check model was loaded correctly\n",
    "c2w = np.eye(4)[:3,:4].astype(np.float32) # identity pose matrix\n",
    "c2w[2,-1] = 4.\n",
    "H, W, focal = 800, 800, 1200.\n",
    "down = 8\n",
    "test = run_nerf.render(H//down, W//down, focal/down, c2w=c2w, **render_kwargs_test)\n",
    "img = np.clip(test[0],0,1)\n",
    "plt.imshow(img)\n",
    "plt.show()"
   ],
   "id": "f7329e37e3475a16"
  }
 ],
 "metadata": {
  "kernelspec": {
   "display_name": "Python 3 (ipykernel)",
   "language": "python",
   "name": "python3"
  },
  "language_info": {
   "codemirror_mode": {
    "name": "ipython",
    "version": 3
   },
   "file_extension": ".py",
   "mimetype": "text/x-python",
   "name": "python",
   "nbconvert_exporter": "python",
   "pygments_lexer": "ipython3",
   "version": "3.8.19"
  }
 },
 "nbformat": 4,
 "nbformat_minor": 5
}
